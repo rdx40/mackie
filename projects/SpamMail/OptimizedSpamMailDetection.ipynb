{
  "nbformat": 4,
  "nbformat_minor": 0,
  "metadata": {
    "colab": {
      "provenance": []
    },
    "kernelspec": {
      "name": "python3",
      "display_name": "Python 3"
    },
    "language_info": {
      "name": "python"
    }
  },
  "cells": [
    {
      "cell_type": "code",
      "source": [
        "import re\n",
        "from sklearn.model_selection import train_test_split\n",
        "from sklearn.feature_extraction.text import TfidfVectorizer\n",
        "from sklearn.preprocessing import LabelEncoder\n",
        "from sklearn.naive_bayes import MultinomialNB\n",
        "from sklearn.ensemble import RandomForestClassifier\n",
        "from sklearn.linear_model import LogisticRegression\n",
        "from sklearn.metrics import accuracy_score\n",
        "\n"
      ],
      "metadata": {
        "id": "yaIEE57LnJ6k"
      },
      "execution_count": 26,
      "outputs": []
    },
    {
      "cell_type": "code",
      "source": [
        "def clean_text(text):\n",
        "    text = re.sub(r'\\W', ' ', text)  # Remove non-word characters\n",
        "    text = re.sub(r'\\s+', ' ', text)  # Replace multiple spaces with a single space\n",
        "    text = text.lower()  # Convert to lowercase\n",
        "    return text\n",
        "\n",
        "mail_data['cleaned_message'] = mail_data['Message'].apply(clean_text)\n",
        "\n",
        "label_encoder = LabelEncoder()\n",
        "mail_data['Category_encoded'] = label_encoder.fit_transform(mail_data['Category'])\n",
        "\n",
        "X_train, X_test, y_train, y_test = train_test_split(\n",
        "    mail_data['cleaned_message'], mail_data['Category_encoded'], test_size=0.2, random_state=42\n",
        ")\n",
        "\n",
        "tfidf_vectorizer = TfidfVectorizer(max_features=5000)\n",
        "X_train_tfidf = tfidf_vectorizer.fit_transform(X_train)\n",
        "X_test_tfidf = tfidf_vectorizer.transform(X_test)\n"
      ],
      "metadata": {
        "id": "tKFfzhi5nYhY"
      },
      "execution_count": 27,
      "outputs": []
    },
    {
      "cell_type": "code",
      "source": [
        "models = {\n",
        "    \"Naive Bayes\": MultinomialNB(),\n",
        "    \"Random Forest\": RandomForestClassifier(random_state=42),\n",
        "    \"Logistic Regression\": LogisticRegression(max_iter=500, random_state=42)\n",
        "}\n",
        "\n",
        "def train_and_evaluate(models, X_train, y_train, X_test, y_test):\n",
        "    results = {}\n",
        "    for model_name, model in models.items():\n",
        "        model.fit(X_train, y_train)\n",
        "        predictions = model.predict(X_test)\n",
        "        accuracy = accuracy_score(y_test, predictions)\n",
        "        results[model_name] = accuracy\n",
        "    return results\n",
        "\n",
        "model_performance = train_and_evaluate(models, X_train_tfidf, y_train, X_test_tfidf, y_test)\n",
        "print(model_performance)\n"
      ],
      "metadata": {
        "colab": {
          "base_uri": "https://localhost:8080/"
        },
        "id": "WQDrQ_PEnMIR",
        "outputId": "2d9c36a8-df2e-43ba-ded4-046894ce4b74"
      },
      "execution_count": 28,
      "outputs": [
        {
          "output_type": "stream",
          "name": "stdout",
          "text": [
            "{'Naive Bayes': 0.9704035874439462, 'Random Forest': 0.9811659192825112, 'Logistic Regression': 0.9739910313901345}\n"
          ]
        }
      ]
    },
    {
      "cell_type": "code",
      "source": [],
      "metadata": {
        "id": "HqdYoT8RnN6c"
      },
      "execution_count": null,
      "outputs": []
    }
  ]
}